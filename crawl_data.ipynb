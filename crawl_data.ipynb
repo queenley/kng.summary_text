{
 "cells": [
  {
   "cell_type": "markdown",
   "id": "6f96533b",
   "metadata": {},
   "source": [
    "# Run"
   ]
  },
  {
   "cell_type": "code",
   "execution_count": 1,
   "id": "7b11bea7",
   "metadata": {},
   "outputs": [
    {
     "name": "stderr",
     "output_type": "stream",
     "text": [
      "<ipython-input-1-afb619520927>:64: DeprecationWarning: executable_path has been deprecated, please pass in a Service object\n",
      "  driver = webdriver.Chrome('./chromedriver_linux64/chromedriver')\n"
     ]
    },
    {
     "name": "stdout",
     "output_type": "stream",
     "text": [
      "\n",
      "Running https://vnexpress.net/.....\n"
     ]
    },
    {
     "name": "stderr",
     "output_type": "stream",
     "text": [
      "<ipython-input-1-afb619520927>:16: DeprecationWarning: executable_path has been deprecated, please pass in a Service object\n",
      "  driver = webdriver.Chrome('./chromedriver_linux64/chromedriver', options=option)\n",
      "100%|██████████| 199/199 [09:59<00:00,  3.01s/it]\n",
      "<ipython-input-1-afb619520927>:16: DeprecationWarning: executable_path has been deprecated, please pass in a Service object\n",
      "  driver = webdriver.Chrome('./chromedriver_linux64/chromedriver', options=option)\n"
     ]
    },
    {
     "name": "stdout",
     "output_type": "stream",
     "text": [
      "\n",
      "Running https://vnexpress.net/thoi-su.....\n"
     ]
    },
    {
     "name": "stderr",
     "output_type": "stream",
     "text": [
      "100%|██████████| 77/77 [01:55<00:00,  1.51s/it]\n",
      "<ipython-input-1-afb619520927>:16: DeprecationWarning: executable_path has been deprecated, please pass in a Service object\n",
      "  driver = webdriver.Chrome('./chromedriver_linux64/chromedriver', options=option)\n"
     ]
    },
    {
     "name": "stdout",
     "output_type": "stream",
     "text": [
      "\n",
      "Running https://vnexpress.net/thoi-su/chinh-tri.....\n"
     ]
    },
    {
     "name": "stderr",
     "output_type": "stream",
     "text": [
      "100%|██████████| 48/48 [01:34<00:00,  1.96s/it]\n",
      "<ipython-input-1-afb619520927>:16: DeprecationWarning: executable_path has been deprecated, please pass in a Service object\n",
      "  driver = webdriver.Chrome('./chromedriver_linux64/chromedriver', options=option)\n"
     ]
    },
    {
     "name": "stdout",
     "output_type": "stream",
     "text": [
      "\n",
      "Running https://vnexpress.net/thoi-su/dan-sinh.....\n"
     ]
    },
    {
     "name": "stderr",
     "output_type": "stream",
     "text": [
      "100%|██████████| 57/57 [03:49<00:00,  4.02s/it]\n",
      "<ipython-input-1-afb619520927>:16: DeprecationWarning: executable_path has been deprecated, please pass in a Service object\n",
      "  driver = webdriver.Chrome('./chromedriver_linux64/chromedriver', options=option)\n"
     ]
    },
    {
     "name": "stdout",
     "output_type": "stream",
     "text": [
      "\n",
      "Running https://vnexpress.net/thoi-su/lao-dong-viec-lam.....\n"
     ]
    },
    {
     "name": "stderr",
     "output_type": "stream",
     "text": [
      "100%|██████████| 53/53 [03:47<00:00,  4.29s/it]\n",
      "<ipython-input-1-afb619520927>:16: DeprecationWarning: executable_path has been deprecated, please pass in a Service object\n",
      "  driver = webdriver.Chrome('./chromedriver_linux64/chromedriver', options=option)\n"
     ]
    },
    {
     "name": "stdout",
     "output_type": "stream",
     "text": [
      "\n",
      "Running https://vnexpress.net/thoi-su/giao-thong.....\n"
     ]
    },
    {
     "name": "stderr",
     "output_type": "stream",
     "text": [
      "100%|██████████| 57/57 [04:22<00:00,  4.60s/it]\n",
      "<ipython-input-1-afb619520927>:16: DeprecationWarning: executable_path has been deprecated, please pass in a Service object\n",
      "  driver = webdriver.Chrome('./chromedriver_linux64/chromedriver', options=option)\n"
     ]
    },
    {
     "name": "stdout",
     "output_type": "stream",
     "text": [
      "\n",
      "Running https://vnexpress.net/thoi-su/mekong.....\n"
     ]
    },
    {
     "name": "stderr",
     "output_type": "stream",
     "text": [
      "100%|██████████| 51/51 [02:47<00:00,  3.29s/it]\n",
      "<ipython-input-1-afb619520927>:16: DeprecationWarning: executable_path has been deprecated, please pass in a Service object\n",
      "  driver = webdriver.Chrome('./chromedriver_linux64/chromedriver', options=option)\n"
     ]
    },
    {
     "name": "stdout",
     "output_type": "stream",
     "text": [
      "\n",
      "Running https://vnexpress.net/thoi-su/quy-hy-vong.....\n"
     ]
    },
    {
     "name": "stderr",
     "output_type": "stream",
     "text": [
      "100%|██████████| 38/38 [01:16<00:00,  2.01s/it]\n",
      "<ipython-input-1-afb619520927>:16: DeprecationWarning: executable_path has been deprecated, please pass in a Service object\n",
      "  driver = webdriver.Chrome('./chromedriver_linux64/chromedriver', options=option)\n"
     ]
    },
    {
     "name": "stdout",
     "output_type": "stream",
     "text": [
      "\n",
      "Running https://vnexpress.net/goc-nhin.....\n"
     ]
    },
    {
     "name": "stderr",
     "output_type": "stream",
     "text": [
      "100%|██████████| 19/19 [00:30<00:00,  1.62s/it]\n",
      "<ipython-input-1-afb619520927>:16: DeprecationWarning: executable_path has been deprecated, please pass in a Service object\n",
      "  driver = webdriver.Chrome('./chromedriver_linux64/chromedriver', options=option)\n"
     ]
    },
    {
     "name": "stdout",
     "output_type": "stream",
     "text": [
      "\n",
      "Running https://vnexpress.net/goc-nhin/binh-luan-nhieu.....\n"
     ]
    },
    {
     "name": "stderr",
     "output_type": "stream",
     "text": [
      "100%|██████████| 30/30 [01:06<00:00,  2.23s/it]\n",
      "<ipython-input-1-afb619520927>:16: DeprecationWarning: executable_path has been deprecated, please pass in a Service object\n",
      "  driver = webdriver.Chrome('./chromedriver_linux64/chromedriver', options=option)\n"
     ]
    },
    {
     "name": "stdout",
     "output_type": "stream",
     "text": [
      "\n",
      "Running https://vnexpress.net/goc-nhin/chinh-tri-chinh-sach.....\n"
     ]
    },
    {
     "name": "stderr",
     "output_type": "stream",
     "text": [
      "100%|██████████| 13/13 [00:26<00:00,  2.04s/it]\n",
      "<ipython-input-1-afb619520927>:16: DeprecationWarning: executable_path has been deprecated, please pass in a Service object\n",
      "  driver = webdriver.Chrome('./chromedriver_linux64/chromedriver', options=option)\n"
     ]
    },
    {
     "name": "stdout",
     "output_type": "stream",
     "text": [
      "\n",
      "Running https://vnexpress.net/goc-nhin/y-te-suc-khoe.....\n"
     ]
    },
    {
     "name": "stderr",
     "output_type": "stream",
     "text": [
      "100%|██████████| 13/13 [00:29<00:00,  2.24s/it]\n",
      "<ipython-input-1-afb619520927>:16: DeprecationWarning: executable_path has been deprecated, please pass in a Service object\n",
      "  driver = webdriver.Chrome('./chromedriver_linux64/chromedriver', options=option)\n"
     ]
    },
    {
     "name": "stdout",
     "output_type": "stream",
     "text": [
      "\n",
      "Running https://vnexpress.net/goc-nhin/kinh-doanh-quan-tri.....\n"
     ]
    },
    {
     "name": "stderr",
     "output_type": "stream",
     "text": [
      "100%|██████████| 13/13 [00:29<00:00,  2.24s/it]\n",
      "<ipython-input-1-afb619520927>:16: DeprecationWarning: executable_path has been deprecated, please pass in a Service object\n",
      "  driver = webdriver.Chrome('./chromedriver_linux64/chromedriver', options=option)\n"
     ]
    },
    {
     "name": "stdout",
     "output_type": "stream",
     "text": [
      "\n",
      "Running https://vnexpress.net/goc-nhin/giao-duc-tri-thuc.....\n"
     ]
    },
    {
     "name": "stderr",
     "output_type": "stream",
     "text": [
      "100%|██████████| 13/13 [00:27<00:00,  2.08s/it]\n",
      "<ipython-input-1-afb619520927>:16: DeprecationWarning: executable_path has been deprecated, please pass in a Service object\n",
      "  driver = webdriver.Chrome('./chromedriver_linux64/chromedriver', options=option)\n"
     ]
    },
    {
     "name": "stdout",
     "output_type": "stream",
     "text": [
      "\n",
      "Running https://vnexpress.net/goc-nhin/moi-truong.....\n"
     ]
    },
    {
     "name": "stderr",
     "output_type": "stream",
     "text": [
      "100%|██████████| 13/13 [00:29<00:00,  2.30s/it]\n",
      "<ipython-input-1-afb619520927>:16: DeprecationWarning: executable_path has been deprecated, please pass in a Service object\n",
      "  driver = webdriver.Chrome('./chromedriver_linux64/chromedriver', options=option)\n"
     ]
    },
    {
     "name": "stdout",
     "output_type": "stream",
     "text": [
      "\n",
      "Running https://vnexpress.net/goc-nhin/van-hoa-loi-song.....\n"
     ]
    },
    {
     "name": "stderr",
     "output_type": "stream",
     "text": [
      "100%|██████████| 13/13 [00:26<00:00,  2.05s/it]\n",
      "<ipython-input-1-afb619520927>:16: DeprecationWarning: executable_path has been deprecated, please pass in a Service object\n",
      "  driver = webdriver.Chrome('./chromedriver_linux64/chromedriver', options=option)\n"
     ]
    },
    {
     "name": "stdout",
     "output_type": "stream",
     "text": [
      "\n",
      "Running https://vnexpress.net/goc-nhin/covid-19.....\n"
     ]
    },
    {
     "name": "stderr",
     "output_type": "stream",
     "text": [
      "100%|██████████| 13/13 [00:31<00:00,  2.39s/it]\n",
      "<ipython-input-1-afb619520927>:16: DeprecationWarning: executable_path has been deprecated, please pass in a Service object\n",
      "  driver = webdriver.Chrome('./chromedriver_linux64/chromedriver', options=option)\n"
     ]
    },
    {
     "name": "stdout",
     "output_type": "stream",
     "text": [
      "\n",
      "Running https://vnexpress.net/goc-nhin/tac-gia.....\n"
     ]
    },
    {
     "name": "stderr",
     "output_type": "stream",
     "text": [
      "100%|██████████| 26/26 [03:13<00:00,  7.46s/it]\n",
      "<ipython-input-1-afb619520927>:16: DeprecationWarning: executable_path has been deprecated, please pass in a Service object\n",
      "  driver = webdriver.Chrome('./chromedriver_linux64/chromedriver', options=option)\n"
     ]
    },
    {
     "name": "stdout",
     "output_type": "stream",
     "text": [
      "\n",
      "Running https://vnexpress.net/the-gioi.....\n"
     ]
    },
    {
     "name": "stderr",
     "output_type": "stream",
     "text": [
      "100%|██████████| 100/100 [04:44<00:00,  2.85s/it]\n",
      "<ipython-input-1-afb619520927>:16: DeprecationWarning: executable_path has been deprecated, please pass in a Service object\n",
      "  driver = webdriver.Chrome('./chromedriver_linux64/chromedriver', options=option)\n"
     ]
    },
    {
     "name": "stdout",
     "output_type": "stream",
     "text": [
      "\n",
      "Running https://vnexpress.net/the-gioi/tu-lieu.....\n"
     ]
    },
    {
     "name": "stderr",
     "output_type": "stream",
     "text": [
      "100%|██████████| 57/57 [03:28<00:00,  3.66s/it]\n",
      "<ipython-input-1-afb619520927>:16: DeprecationWarning: executable_path has been deprecated, please pass in a Service object\n",
      "  driver = webdriver.Chrome('./chromedriver_linux64/chromedriver', options=option)\n"
     ]
    },
    {
     "name": "stdout",
     "output_type": "stream",
     "text": [
      "\n",
      "Running https://vnexpress.net/the-gioi/phan-tich.....\n"
     ]
    },
    {
     "name": "stderr",
     "output_type": "stream",
     "text": [
      "100%|██████████| 57/57 [03:57<00:00,  4.16s/it]\n",
      "<ipython-input-1-afb619520927>:16: DeprecationWarning: executable_path has been deprecated, please pass in a Service object\n",
      "  driver = webdriver.Chrome('./chromedriver_linux64/chromedriver', options=option)\n"
     ]
    },
    {
     "name": "stdout",
     "output_type": "stream",
     "text": [
      "\n",
      "Running https://vnexpress.net/the-gioi/nguoi-viet-5-chau.....\n"
     ]
    },
    {
     "name": "stderr",
     "output_type": "stream",
     "text": [
      "100%|██████████| 57/57 [03:38<00:00,  3.84s/it]\n",
      "<ipython-input-1-afb619520927>:16: DeprecationWarning: executable_path has been deprecated, please pass in a Service object\n",
      "  driver = webdriver.Chrome('./chromedriver_linux64/chromedriver', options=option)\n"
     ]
    },
    {
     "name": "stdout",
     "output_type": "stream",
     "text": [
      "\n",
      "Running https://vnexpress.net/the-gioi/cuoc-song-do-day.....\n"
     ]
    },
    {
     "name": "stderr",
     "output_type": "stream",
     "text": [
      "100%|██████████| 57/57 [02:54<00:00,  3.07s/it]\n",
      "<ipython-input-1-afb619520927>:16: DeprecationWarning: executable_path has been deprecated, please pass in a Service object\n",
      "  driver = webdriver.Chrome('./chromedriver_linux64/chromedriver', options=option)\n"
     ]
    },
    {
     "name": "stdout",
     "output_type": "stream",
     "text": [
      "\n",
      "Running https://vnexpress.net/the-gioi/quan-su.....\n"
     ]
    },
    {
     "name": "stderr",
     "output_type": "stream",
     "text": [
      "100%|██████████| 57/57 [03:09<00:00,  3.33s/it]\n",
      "<ipython-input-1-afb619520927>:16: DeprecationWarning: executable_path has been deprecated, please pass in a Service object\n",
      "  driver = webdriver.Chrome('./chromedriver_linux64/chromedriver', options=option)\n"
     ]
    },
    {
     "name": "stdout",
     "output_type": "stream",
     "text": [
      "\n",
      "Running https://video.vnexpress.net/.....\n"
     ]
    },
    {
     "name": "stderr",
     "output_type": "stream",
     "text": [
      "0it [00:00, ?it/s]\n"
     ]
    },
    {
     "name": "stdout",
     "output_type": "stream",
     "text": [
      "\n",
      "Running https://video.vnexpress.net/thoi-su.....\n"
     ]
    },
    {
     "name": "stderr",
     "output_type": "stream",
     "text": [
      "0it [00:00, ?it/s]\n"
     ]
    },
    {
     "name": "stdout",
     "output_type": "stream",
     "text": [
      "\n",
      "Running https://video.vnexpress.net/nhip-song.....\n"
     ]
    },
    {
     "name": "stderr",
     "output_type": "stream",
     "text": [
      "0it [00:00, ?it/s]\n"
     ]
    },
    {
     "name": "stdout",
     "output_type": "stream",
     "text": [
      "\n",
      "Running https://video.vnexpress.net/food.....\n"
     ]
    },
    {
     "name": "stderr",
     "output_type": "stream",
     "text": [
      "0it [00:00, ?it/s]\n"
     ]
    },
    {
     "name": "stdout",
     "output_type": "stream",
     "text": [
      "\n",
      "Running https://video.vnexpress.net/toi-ke.....\n"
     ]
    },
    {
     "name": "stderr",
     "output_type": "stream",
     "text": [
      "0it [00:00, ?it/s]\n"
     ]
    },
    {
     "name": "stdout",
     "output_type": "stream",
     "text": [
      "\n",
      "Running https://video.vnexpress.net/chuyen-nui-rung.....\n"
     ]
    },
    {
     "name": "stderr",
     "output_type": "stream",
     "text": [
      "0it [00:00, ?it/s]\n"
     ]
    },
    {
     "name": "stdout",
     "output_type": "stream",
     "text": [
      "\n",
      "Running https://video.vnexpress.net/phap-luat.....\n"
     ]
    },
    {
     "name": "stderr",
     "output_type": "stream",
     "text": [
      "0it [00:00, ?it/s]\n"
     ]
    },
    {
     "name": "stdout",
     "output_type": "stream",
     "text": [
      "\n",
      "Running https://video.vnexpress.net/giai-tri.....\n"
     ]
    },
    {
     "name": "stderr",
     "output_type": "stream",
     "text": [
      "0it [00:00, ?it/s]\n"
     ]
    },
    {
     "name": "stdout",
     "output_type": "stream",
     "text": [
      "\n",
      "Running https://video.vnexpress.net/the-thao.....\n"
     ]
    },
    {
     "name": "stderr",
     "output_type": "stream",
     "text": [
      "0it [00:00, ?it/s]\n"
     ]
    },
    {
     "name": "stdout",
     "output_type": "stream",
     "text": [
      "\n",
      "Running https://video.vnexpress.net/so-hoa.....\n"
     ]
    },
    {
     "name": "stderr",
     "output_type": "stream",
     "text": [
      "0it [00:00, ?it/s]\n"
     ]
    },
    {
     "name": "stdout",
     "output_type": "stream",
     "text": [
      "\n",
      "Running https://video.vnexpress.net/oto-xemay.....\n"
     ]
    },
    {
     "name": "stderr",
     "output_type": "stream",
     "text": [
      "0it [00:00, ?it/s]\n"
     ]
    },
    {
     "name": "stdout",
     "output_type": "stream",
     "text": [
      "\n",
      "Running https://video.vnexpress.net/suc-khoe.....\n"
     ]
    },
    {
     "name": "stderr",
     "output_type": "stream",
     "text": [
      "0it [00:00, ?it/s]\n"
     ]
    },
    {
     "name": "stdout",
     "output_type": "stream",
     "text": [
      "\n",
      "Running https://video.vnexpress.net/du-lich.....\n"
     ]
    },
    {
     "name": "stderr",
     "output_type": "stream",
     "text": [
      "0it [00:00, ?it/s]\n"
     ]
    },
    {
     "name": "stdout",
     "output_type": "stream",
     "text": [
      "\n",
      "Running https://video.vnexpress.net/the-gioi.....\n"
     ]
    },
    {
     "name": "stderr",
     "output_type": "stream",
     "text": [
      "0it [00:00, ?it/s]\n"
     ]
    },
    {
     "name": "stdout",
     "output_type": "stream",
     "text": [
      "\n",
      "Running https://video.vnexpress.net/khoa-hoc.....\n"
     ]
    },
    {
     "name": "stderr",
     "output_type": "stream",
     "text": [
      "0it [00:00, ?it/s]\n"
     ]
    },
    {
     "name": "stdout",
     "output_type": "stream",
     "text": [
      "\n",
      "Running https://video.vnexpress.net/giao-duc.....\n"
     ]
    },
    {
     "name": "stderr",
     "output_type": "stream",
     "text": [
      "0it [00:00, ?it/s]\n"
     ]
    },
    {
     "name": "stdout",
     "output_type": "stream",
     "text": [
      "\n",
      "Running https://video.vnexpress.net/toa-dam-kinh-te.....\n"
     ]
    },
    {
     "name": "stderr",
     "output_type": "stream",
     "text": [
      "0it [00:00, ?it/s]\n"
     ]
    },
    {
     "name": "stdout",
     "output_type": "stream",
     "text": [
      "\n",
      "Running https://video.vnexpress.net/chu-de.....\n"
     ]
    },
    {
     "name": "stderr",
     "output_type": "stream",
     "text": [
      "0it [00:00, ?it/s]\n"
     ]
    },
    {
     "name": "stdout",
     "output_type": "stream",
     "text": [
      "\n",
      "Running https://video.vnexpress.net/nguy-co.....\n"
     ]
    },
    {
     "name": "stderr",
     "output_type": "stream",
     "text": [
      "100%|██████████| 6/6 [09:01<00:00, 90.24s/it] \n",
      "<ipython-input-1-afb619520927>:16: DeprecationWarning: executable_path has been deprecated, please pass in a Service object\n",
      "  driver = webdriver.Chrome('./chromedriver_linux64/chromedriver', options=option)\n"
     ]
    },
    {
     "name": "stdout",
     "output_type": "stream",
     "text": [
      "\n",
      "Running https://vnexpress.net/podcast.....\n"
     ]
    },
    {
     "name": "stderr",
     "output_type": "stream",
     "text": [
      "100%|██████████| 30/30 [04:53<00:00,  9.79s/it]\n",
      "<ipython-input-1-afb619520927>:16: DeprecationWarning: executable_path has been deprecated, please pass in a Service object\n",
      "  driver = webdriver.Chrome('./chromedriver_linux64/chromedriver', options=option)\n"
     ]
    },
    {
     "name": "stdout",
     "output_type": "stream",
     "text": [
      "\n",
      "Running https://vnexpress.net/podcast/vnexpress-hom-nay.....\n"
     ]
    },
    {
     "name": "stderr",
     "output_type": "stream",
     "text": [
      "100%|██████████| 23/23 [00:11<00:00,  2.09it/s]\n",
      "<ipython-input-1-afb619520927>:16: DeprecationWarning: executable_path has been deprecated, please pass in a Service object\n",
      "  driver = webdriver.Chrome('./chromedriver_linux64/chromedriver', options=option)\n"
     ]
    },
    {
     "name": "stdout",
     "output_type": "stream",
     "text": [
      "\n",
      "Running https://vnexpress.net/podcast/ho-noi-gi.....\n"
     ]
    },
    {
     "name": "stderr",
     "output_type": "stream",
     "text": [
      "100%|██████████| 23/23 [04:00<00:00, 10.46s/it]\n",
      "<ipython-input-1-afb619520927>:16: DeprecationWarning: executable_path has been deprecated, please pass in a Service object\n",
      "  driver = webdriver.Chrome('./chromedriver_linux64/chromedriver', options=option)\n"
     ]
    },
    {
     "name": "stdout",
     "output_type": "stream",
     "text": [
      "\n",
      "Running https://vnexpress.net/podcast/hop-den.....\n"
     ]
    },
    {
     "name": "stderr",
     "output_type": "stream",
     "text": [
      "100%|██████████| 19/19 [00:10<00:00,  1.73it/s]\n",
      "<ipython-input-1-afb619520927>:16: DeprecationWarning: executable_path has been deprecated, please pass in a Service object\n",
      "  driver = webdriver.Chrome('./chromedriver_linux64/chromedriver', options=option)\n"
     ]
    },
    {
     "name": "stdout",
     "output_type": "stream",
     "text": [
      "\n",
      "Running https://vnexpress.net/podcast/ly-hon.....\n"
     ]
    },
    {
     "name": "stderr",
     "output_type": "stream",
     "text": [
      "100%|██████████| 23/23 [03:58<00:00, 10.39s/it]\n",
      "<ipython-input-1-afb619520927>:16: DeprecationWarning: executable_path has been deprecated, please pass in a Service object\n",
      "  driver = webdriver.Chrome('./chromedriver_linux64/chromedriver', options=option)\n"
     ]
    },
    {
     "name": "stdout",
     "output_type": "stream",
     "text": [
      "\n",
      "Running https://vnexpress.net/podcast/tham-thi.....\n"
     ]
    },
    {
     "name": "stderr",
     "output_type": "stream",
     "text": [
      "100%|██████████| 23/23 [03:40<00:00,  9.59s/it]\n",
      "<ipython-input-1-afb619520927>:16: DeprecationWarning: executable_path has been deprecated, please pass in a Service object\n",
      "  driver = webdriver.Chrome('./chromedriver_linux64/chromedriver', options=option)\n"
     ]
    },
    {
     "name": "stdout",
     "output_type": "stream",
     "text": [
      "\n",
      "Running https://vnexpress.net/podcast/ban-on-khong.....\n"
     ]
    },
    {
     "name": "stderr",
     "output_type": "stream",
     "text": [
      "100%|██████████| 22/22 [04:11<00:00, 11.41s/it]\n",
      "<ipython-input-1-afb619520927>:16: DeprecationWarning: executable_path has been deprecated, please pass in a Service object\n",
      "  driver = webdriver.Chrome('./chromedriver_linux64/chromedriver', options=option)\n"
     ]
    },
    {
     "name": "stdout",
     "output_type": "stream",
     "text": [
      "\n",
      "Running https://vnexpress.net/podcast/toi-trong-guong.....\n"
     ]
    },
    {
     "name": "stderr",
     "output_type": "stream",
     "text": [
      "100%|██████████| 23/23 [04:23<00:00, 11.45s/it]\n",
      "<ipython-input-1-afb619520927>:16: DeprecationWarning: executable_path has been deprecated, please pass in a Service object\n",
      "  driver = webdriver.Chrome('./chromedriver_linux64/chromedriver', options=option)\n"
     ]
    },
    {
     "name": "stdout",
     "output_type": "stream",
     "text": [
      "\n",
      "Running https://vnexpress.net/podcast/diem-tin.....\n"
     ]
    },
    {
     "name": "stderr",
     "output_type": "stream",
     "text": [
      "100%|██████████| 23/23 [04:46<00:00, 12.44s/it]\n",
      "<ipython-input-1-afb619520927>:16: DeprecationWarning: executable_path has been deprecated, please pass in a Service object\n",
      "  driver = webdriver.Chrome('./chromedriver_linux64/chromedriver', options=option)\n"
     ]
    },
    {
     "name": "stdout",
     "output_type": "stream",
     "text": [
      "\n",
      "Running https://vnexpress.net/podcast/chuyen-di-lam.....\n"
     ]
    },
    {
     "name": "stderr",
     "output_type": "stream",
     "text": [
      "100%|██████████| 16/16 [03:07<00:00, 11.72s/it]\n",
      "<ipython-input-1-afb619520927>:16: DeprecationWarning: executable_path has been deprecated, please pass in a Service object\n",
      "  driver = webdriver.Chrome('./chromedriver_linux64/chromedriver', options=option)\n"
     ]
    },
    {
     "name": "stdout",
     "output_type": "stream",
     "text": [
      "\n",
      "Running https://vnexpress.net/podcast/up-mo-18.....\n"
     ]
    },
    {
     "name": "stderr",
     "output_type": "stream",
     "text": [
      "100%|██████████| 17/17 [03:34<00:00, 12.63s/it]\n",
      "<ipython-input-1-afb619520927>:16: DeprecationWarning: executable_path has been deprecated, please pass in a Service object\n",
      "  driver = webdriver.Chrome('./chromedriver_linux64/chromedriver', options=option)\n"
     ]
    },
    {
     "name": "stdout",
     "output_type": "stream",
     "text": [
      "\n",
      "Running https://vnexpress.net/podcast/tien-lam-gi.....\n"
     ]
    },
    {
     "name": "stderr",
     "output_type": "stream",
     "text": [
      "100%|██████████| 21/21 [03:59<00:00, 11.42s/it]\n",
      "<ipython-input-1-afb619520927>:16: DeprecationWarning: executable_path has been deprecated, please pass in a Service object\n",
      "  driver = webdriver.Chrome('./chromedriver_linux64/chromedriver', options=option)\n"
     ]
    },
    {
     "name": "stdout",
     "output_type": "stream",
     "text": [
      "\n",
      "Running https://vnexpress.net/podcast/nguy-co.....\n"
     ]
    },
    {
     "name": "stderr",
     "output_type": "stream",
     "text": [
      "100%|██████████| 23/23 [27:27<00:00, 71.64s/it]\n",
      "<ipython-input-1-afb619520927>:16: DeprecationWarning: executable_path has been deprecated, please pass in a Service object\n",
      "  driver = webdriver.Chrome('./chromedriver_linux64/chromedriver', options=option)\n"
     ]
    },
    {
     "name": "stdout",
     "output_type": "stream",
     "text": [
      "\n",
      "Running https://vnexpress.net/kinh-doanh.....\n"
     ]
    },
    {
     "name": "stderr",
     "output_type": "stream",
     "text": [
      "100%|██████████| 80/80 [05:49<00:00,  4.37s/it]\n",
      "<ipython-input-1-afb619520927>:16: DeprecationWarning: executable_path has been deprecated, please pass in a Service object\n",
      "  driver = webdriver.Chrome('./chromedriver_linux64/chromedriver', options=option)\n"
     ]
    },
    {
     "name": "stdout",
     "output_type": "stream",
     "text": [
      "\n",
      "Running https://vnexpress.net/kinh-doanh/quoc-te.....\n"
     ]
    },
    {
     "name": "stderr",
     "output_type": "stream",
     "text": [
      "100%|██████████| 51/51 [03:44<00:00,  4.41s/it]\n"
     ]
    },
    {
     "name": "stdout",
     "output_type": "stream",
     "text": [
      "\n",
      "Running https://vnexpress.net/kinh-doanh/doanh-nghiep.....\n"
     ]
    },
    {
     "name": "stderr",
     "output_type": "stream",
     "text": [
      "<ipython-input-1-afb619520927>:16: DeprecationWarning: executable_path has been deprecated, please pass in a Service object\n",
      "  driver = webdriver.Chrome('./chromedriver_linux64/chromedriver', options=option)\n",
      "100%|██████████| 56/56 [03:19<00:00,  3.56s/it]\n",
      "<ipython-input-1-afb619520927>:16: DeprecationWarning: executable_path has been deprecated, please pass in a Service object\n",
      "  driver = webdriver.Chrome('./chromedriver_linux64/chromedriver', options=option)\n"
     ]
    },
    {
     "name": "stdout",
     "output_type": "stream",
     "text": [
      "\n",
      "Running https://vnexpress.net/kinh-doanh/chung-khoan.....\n"
     ]
    },
    {
     "name": "stderr",
     "output_type": "stream",
     "text": [
      "100%|██████████| 51/51 [04:13<00:00,  4.97s/it]\n",
      "<ipython-input-1-afb619520927>:16: DeprecationWarning: executable_path has been deprecated, please pass in a Service object\n",
      "  driver = webdriver.Chrome('./chromedriver_linux64/chromedriver', options=option)\n"
     ]
    },
    {
     "name": "stdout",
     "output_type": "stream",
     "text": [
      "\n",
      "Running https://vnexpress.net/kinh-doanh/bat-dong-san.....\n"
     ]
    },
    {
     "name": "stderr",
     "output_type": "stream",
     "text": [
      "100%|██████████| 54/54 [03:33<00:00,  3.95s/it]\n",
      "<ipython-input-1-afb619520927>:16: DeprecationWarning: executable_path has been deprecated, please pass in a Service object\n",
      "  driver = webdriver.Chrome('./chromedriver_linux64/chromedriver', options=option)\n"
     ]
    },
    {
     "name": "stdout",
     "output_type": "stream",
     "text": [
      "\n",
      "Running https://vnexpress.net/kinh-doanh/ebank.....\n"
     ]
    },
    {
     "name": "stderr",
     "output_type": "stream",
     "text": [
      "100%|██████████| 60/60 [04:44<00:00,  4.75s/it]\n",
      "<ipython-input-1-afb619520927>:16: DeprecationWarning: executable_path has been deprecated, please pass in a Service object\n",
      "  driver = webdriver.Chrome('./chromedriver_linux64/chromedriver', options=option)\n"
     ]
    },
    {
     "name": "stdout",
     "output_type": "stream",
     "text": [
      "\n",
      "Running https://vnexpress.net/kinh-doanh/vi-mo.....\n"
     ]
    },
    {
     "name": "stderr",
     "output_type": "stream",
     "text": [
      "100%|██████████| 56/56 [03:45<00:00,  4.03s/it]\n",
      "<ipython-input-1-afb619520927>:16: DeprecationWarning: executable_path has been deprecated, please pass in a Service object\n",
      "  driver = webdriver.Chrome('./chromedriver_linux64/chromedriver', options=option)\n"
     ]
    },
    {
     "name": "stdout",
     "output_type": "stream",
     "text": [
      "\n",
      "Running https://vnexpress.net/kinh-doanh/tien-cua-toi.....\n"
     ]
    },
    {
     "name": "stderr",
     "output_type": "stream",
     "text": [
      "100%|██████████| 51/51 [05:20<00:00,  6.28s/it]\n",
      "<ipython-input-1-afb619520927>:16: DeprecationWarning: executable_path has been deprecated, please pass in a Service object\n",
      "  driver = webdriver.Chrome('./chromedriver_linux64/chromedriver', options=option)\n"
     ]
    },
    {
     "name": "stdout",
     "output_type": "stream",
     "text": [
      "\n",
      "Running https://vnexpress.net/kinh-doanh/bao-hiem.....\n"
     ]
    },
    {
     "name": "stderr",
     "output_type": "stream",
     "text": [
      "100%|██████████| 36/36 [02:12<00:00,  3.67s/it]\n",
      "<ipython-input-1-afb619520927>:16: DeprecationWarning: executable_path has been deprecated, please pass in a Service object\n",
      "  driver = webdriver.Chrome('./chromedriver_linux64/chromedriver', options=option)\n"
     ]
    },
    {
     "name": "stdout",
     "output_type": "stream",
     "text": [
      "\n",
      "Running https://vnexpress.net/kinh-doanh/hang-hoa.....\n"
     ]
    },
    {
     "name": "stderr",
     "output_type": "stream",
     "text": [
      "100%|██████████| 56/56 [03:49<00:00,  4.10s/it]\n",
      "<ipython-input-1-afb619520927>:16: DeprecationWarning: executable_path has been deprecated, please pass in a Service object\n",
      "  driver = webdriver.Chrome('./chromedriver_linux64/chromedriver', options=option)\n"
     ]
    },
    {
     "name": "stdout",
     "output_type": "stream",
     "text": [
      "\n",
      "Running https://vhome.vnexpress.net/?utm_source=VnExpress_Desktop&utm_medium=KinhDoanh_Menu&utm_campaign=DropMenu_Startup.....\n"
     ]
    },
    {
     "name": "stderr",
     "output_type": "stream",
     "text": [
      "100%|██████████| 3/3 [00:32<00:00, 10.83s/it]\n"
     ]
    },
    {
     "name": "stdout",
     "output_type": "stream",
     "text": [
      "\n",
      "Running https://vnexpress.net/kinh-doanh/ebox.....\n"
     ]
    },
    {
     "name": "stderr",
     "output_type": "stream",
     "text": [
      "100%|██████████| 39/39 [04:04<00:00,  6.26s/it]\n",
      "<ipython-input-1-afb619520927>:16: DeprecationWarning: executable_path has been deprecated, please pass in a Service object\n",
      "  driver = webdriver.Chrome('./chromedriver_linux64/chromedriver', options=option)\n"
     ]
    },
    {
     "name": "stdout",
     "output_type": "stream",
     "text": [
      "\n",
      "Running https://vnexpress.net/khoa-hoc.....\n"
     ]
    },
    {
     "name": "stderr",
     "output_type": "stream",
     "text": [
      "100%|██████████| 93/93 [06:05<00:00,  3.93s/it]\n",
      "<ipython-input-1-afb619520927>:16: DeprecationWarning: executable_path has been deprecated, please pass in a Service object\n",
      "  driver = webdriver.Chrome('./chromedriver_linux64/chromedriver', options=option)\n"
     ]
    },
    {
     "name": "stdout",
     "output_type": "stream",
     "text": [
      "\n",
      "Running https://vnexpress.net/khoa-hoc/khoa-hoc-trong-nuoc.....\n"
     ]
    },
    {
     "name": "stderr",
     "output_type": "stream",
     "text": [
      "100%|██████████| 48/48 [00:11<00:00,  4.36it/s]\n",
      "<ipython-input-1-afb619520927>:16: DeprecationWarning: executable_path has been deprecated, please pass in a Service object\n",
      "  driver = webdriver.Chrome('./chromedriver_linux64/chromedriver', options=option)\n"
     ]
    },
    {
     "name": "stdout",
     "output_type": "stream",
     "text": [
      "\n",
      "Running https://vnexpress.net/khoa-hoc/tin-tuc.....\n"
     ]
    },
    {
     "name": "stderr",
     "output_type": "stream",
     "text": [
      "100%|██████████| 51/51 [05:11<00:00,  6.10s/it]\n",
      "<ipython-input-1-afb619520927>:16: DeprecationWarning: executable_path has been deprecated, please pass in a Service object\n",
      "  driver = webdriver.Chrome('./chromedriver_linux64/chromedriver', options=option)\n"
     ]
    },
    {
     "name": "stdout",
     "output_type": "stream",
     "text": [
      "\n",
      "Running https://vnexpress.net/khoa-hoc/phat-minh.....\n"
     ]
    },
    {
     "name": "stderr",
     "output_type": "stream",
     "text": [
      "100%|██████████| 51/51 [04:25<00:00,  5.21s/it]\n",
      "<ipython-input-1-afb619520927>:16: DeprecationWarning: executable_path has been deprecated, please pass in a Service object\n",
      "  driver = webdriver.Chrome('./chromedriver_linux64/chromedriver', options=option)\n"
     ]
    },
    {
     "name": "stdout",
     "output_type": "stream",
     "text": [
      "\n",
      "Running https://vnexpress.net/khoa-hoc/ung-dung.....\n"
     ]
    },
    {
     "name": "stderr",
     "output_type": "stream",
     "text": [
      "100%|██████████| 51/51 [04:57<00:00,  5.84s/it]\n",
      "<ipython-input-1-afb619520927>:16: DeprecationWarning: executable_path has been deprecated, please pass in a Service object\n",
      "  driver = webdriver.Chrome('./chromedriver_linux64/chromedriver', options=option)\n"
     ]
    },
    {
     "name": "stdout",
     "output_type": "stream",
     "text": [
      "\n",
      "Running https://vnexpress.net/khoa-hoc/the-gioi-tu-nhien.....\n"
     ]
    },
    {
     "name": "stderr",
     "output_type": "stream",
     "text": [
      "100%|██████████| 51/51 [04:57<00:00,  5.82s/it]\n",
      "<ipython-input-1-afb619520927>:16: DeprecationWarning: executable_path has been deprecated, please pass in a Service object\n",
      "  driver = webdriver.Chrome('./chromedriver_linux64/chromedriver', options=option)\n"
     ]
    },
    {
     "name": "stdout",
     "output_type": "stream",
     "text": [
      "\n",
      "Running https://vnexpress.net/khoa-hoc/thuong-thuc.....\n"
     ]
    },
    {
     "name": "stderr",
     "output_type": "stream",
     "text": [
      "100%|██████████| 51/51 [05:03<00:00,  5.96s/it]\n",
      "<ipython-input-1-afb619520927>:16: DeprecationWarning: executable_path has been deprecated, please pass in a Service object\n",
      "  driver = webdriver.Chrome('./chromedriver_linux64/chromedriver', options=option)\n"
     ]
    },
    {
     "name": "stdout",
     "output_type": "stream",
     "text": [
      "\n",
      "Running https://vnexpress.net/khoa-hoc/cuoc-thi-sang-kien-khoa-hoc.....\n"
     ]
    },
    {
     "name": "stderr",
     "output_type": "stream",
     "text": [
      "0it [00:00, ?it/s]\n"
     ]
    },
    {
     "name": "stdout",
     "output_type": "stream",
     "text": [
      "\n",
      "Running https://vnexpress.net/giai-tri.....\n"
     ]
    },
    {
     "name": "stderr",
     "output_type": "stream",
     "text": [
      "100%|██████████| 186/186 [02:31<00:00,  1.23it/s]\n",
      "<ipython-input-1-afb619520927>:16: DeprecationWarning: executable_path has been deprecated, please pass in a Service object\n",
      "  driver = webdriver.Chrome('./chromedriver_linux64/chromedriver', options=option)\n"
     ]
    },
    {
     "name": "stdout",
     "output_type": "stream",
     "text": [
      "\n",
      "Running https://vnexpress.net/giai-tri/gioi-sao.....\n"
     ]
    },
    {
     "name": "stderr",
     "output_type": "stream",
     "text": [
      "100%|██████████| 54/54 [05:13<00:00,  5.80s/it]\n",
      "<ipython-input-1-afb619520927>:16: DeprecationWarning: executable_path has been deprecated, please pass in a Service object\n",
      "  driver = webdriver.Chrome('./chromedriver_linux64/chromedriver', options=option)\n"
     ]
    },
    {
     "name": "stdout",
     "output_type": "stream",
     "text": [
      "\n",
      "Running https://video.vnexpress.net/giai-tri.....\n"
     ]
    },
    {
     "name": "stderr",
     "output_type": "stream",
     "text": [
      "0it [00:00, ?it/s]\n"
     ]
    },
    {
     "name": "stdout",
     "output_type": "stream",
     "text": [
      "\n",
      "Running https://vnexpress.net/giai-tri/phim.....\n"
     ]
    },
    {
     "name": "stderr",
     "output_type": "stream",
     "text": [
      "100%|██████████| 55/55 [05:34<00:00,  6.09s/it]\n",
      "<ipython-input-1-afb619520927>:16: DeprecationWarning: executable_path has been deprecated, please pass in a Service object\n",
      "  driver = webdriver.Chrome('./chromedriver_linux64/chromedriver', options=option)\n"
     ]
    },
    {
     "name": "stdout",
     "output_type": "stream",
     "text": [
      "\n",
      "Running https://vnexpress.net/giai-tri/nhac.....\n"
     ]
    },
    {
     "name": "stderr",
     "output_type": "stream",
     "text": [
      "100%|██████████| 52/52 [04:50<00:00,  5.59s/it]\n",
      "<ipython-input-1-afb619520927>:16: DeprecationWarning: executable_path has been deprecated, please pass in a Service object\n",
      "  driver = webdriver.Chrome('./chromedriver_linux64/chromedriver', options=option)\n"
     ]
    },
    {
     "name": "stdout",
     "output_type": "stream",
     "text": [
      "\n",
      "Running https://vnexpress.net/giai-tri/thoi-trang.....\n"
     ]
    },
    {
     "name": "stderr",
     "output_type": "stream",
     "text": [
      "100%|██████████| 57/57 [04:33<00:00,  4.80s/it]\n",
      "<ipython-input-1-afb619520927>:16: DeprecationWarning: executable_path has been deprecated, please pass in a Service object\n",
      "  driver = webdriver.Chrome('./chromedriver_linux64/chromedriver', options=option)\n"
     ]
    },
    {
     "name": "stdout",
     "output_type": "stream",
     "text": [
      "\n",
      "Running https://vnexpress.net/giai-tri/lam-dep.....\n"
     ]
    },
    {
     "name": "stderr",
     "output_type": "stream",
     "text": [
      "100%|██████████| 54/54 [04:35<00:00,  5.10s/it]\n",
      "<ipython-input-1-afb619520927>:16: DeprecationWarning: executable_path has been deprecated, please pass in a Service object\n",
      "  driver = webdriver.Chrome('./chromedriver_linux64/chromedriver', options=option)\n"
     ]
    },
    {
     "name": "stdout",
     "output_type": "stream",
     "text": [
      "\n",
      "Running https://vnexpress.net/giai-tri/sach.....\n"
     ]
    },
    {
     "name": "stderr",
     "output_type": "stream",
     "text": [
      "100%|██████████| 45/45 [04:37<00:00,  6.16s/it]\n",
      "<ipython-input-1-afb619520927>:16: DeprecationWarning: executable_path has been deprecated, please pass in a Service object\n",
      "  driver = webdriver.Chrome('./chromedriver_linux64/chromedriver', options=option)\n"
     ]
    },
    {
     "name": "stdout",
     "output_type": "stream",
     "text": [
      "\n",
      "Running https://vnexpress.net/giai-tri/san-khau-my-thuat.....\n"
     ]
    },
    {
     "name": "stderr",
     "output_type": "stream",
     "text": [
      "100%|██████████| 51/51 [05:30<00:00,  6.48s/it]\n",
      "<ipython-input-1-afb619520927>:16: DeprecationWarning: executable_path has been deprecated, please pass in a Service object\n",
      "  driver = webdriver.Chrome('./chromedriver_linux64/chromedriver', options=option)\n"
     ]
    },
    {
     "name": "stdout",
     "output_type": "stream",
     "text": [
      "\n",
      "Running https://vnexpress.net/the-thao.....\n"
     ]
    },
    {
     "name": "stderr",
     "output_type": "stream",
     "text": [
      "100%|██████████| 129/129 [07:25<00:00,  3.46s/it]\n",
      "<ipython-input-1-afb619520927>:16: DeprecationWarning: executable_path has been deprecated, please pass in a Service object\n",
      "  driver = webdriver.Chrome('./chromedriver_linux64/chromedriver', options=option)\n"
     ]
    },
    {
     "name": "stdout",
     "output_type": "stream",
     "text": [
      "\n",
      "Running https://vnexpress.net/bong-da.....\n"
     ]
    },
    {
     "name": "stderr",
     "output_type": "stream",
     "text": [
      "100%|██████████| 54/54 [04:30<00:00,  5.02s/it]\n",
      "<ipython-input-1-afb619520927>:16: DeprecationWarning: executable_path has been deprecated, please pass in a Service object\n",
      "  driver = webdriver.Chrome('./chromedriver_linux64/chromedriver', options=option)\n"
     ]
    },
    {
     "name": "stdout",
     "output_type": "stream",
     "text": [
      "\n",
      "Running https://vnexpress.net/the-thao/marathon.....\n"
     ]
    },
    {
     "name": "stderr",
     "output_type": "stream",
     "text": [
      "100%|██████████| 77/77 [03:12<00:00,  2.50s/it]\n",
      "<ipython-input-1-afb619520927>:16: DeprecationWarning: executable_path has been deprecated, please pass in a Service object\n",
      "  driver = webdriver.Chrome('./chromedriver_linux64/chromedriver', options=option)\n"
     ]
    },
    {
     "name": "stdout",
     "output_type": "stream",
     "text": [
      "\n",
      "Running https://vnexpress.net/the-thao/du-lieu-bong-da.....\n"
     ]
    },
    {
     "name": "stderr",
     "output_type": "stream",
     "text": [
      "0it [00:00, ?it/s]\n"
     ]
    },
    {
     "name": "stdout",
     "output_type": "stream",
     "text": [
      "\n",
      "Running https://vnexpress.net/the-thao/tennis.....\n"
     ]
    },
    {
     "name": "stderr",
     "output_type": "stream",
     "text": [
      "100%|██████████| 53/53 [04:46<00:00,  5.41s/it]\n",
      "<ipython-input-1-afb619520927>:16: DeprecationWarning: executable_path has been deprecated, please pass in a Service object\n",
      "  driver = webdriver.Chrome('./chromedriver_linux64/chromedriver', options=option)\n"
     ]
    },
    {
     "name": "stdout",
     "output_type": "stream",
     "text": [
      "\n",
      "Running https://vnexpress.net/the-thao/bundesliga.....\n"
     ]
    },
    {
     "name": "stderr",
     "output_type": "stream",
     "text": [
      "100%|██████████| 54/54 [04:54<00:00,  5.45s/it]\n",
      "<ipython-input-1-afb619520927>:16: DeprecationWarning: executable_path has been deprecated, please pass in a Service object\n",
      "  driver = webdriver.Chrome('./chromedriver_linux64/chromedriver', options=option)\n"
     ]
    },
    {
     "name": "stdout",
     "output_type": "stream",
     "text": [
      "\n",
      "Running https://vnexpress.net/the-thao/cac-mon-khac.....\n"
     ]
    },
    {
     "name": "stderr",
     "output_type": "stream",
     "text": [
      "100%|██████████| 51/51 [05:17<00:00,  6.22s/it]\n",
      "<ipython-input-1-afb619520927>:16: DeprecationWarning: executable_path has been deprecated, please pass in a Service object\n",
      "  driver = webdriver.Chrome('./chromedriver_linux64/chromedriver', options=option)\n"
     ]
    },
    {
     "name": "stdout",
     "output_type": "stream",
     "text": [
      "\n",
      "Running https://vnexpress.net/the-thao/hau-truong.....\n"
     ]
    },
    {
     "name": "stderr",
     "output_type": "stream",
     "text": [
      "100%|██████████| 54/54 [05:08<00:00,  5.72s/it]\n",
      "<ipython-input-1-afb619520927>:16: DeprecationWarning: executable_path has been deprecated, please pass in a Service object\n",
      "  driver = webdriver.Chrome('./chromedriver_linux64/chromedriver', options=option)\n"
     ]
    },
    {
     "name": "stdout",
     "output_type": "stream",
     "text": [
      "\n",
      "Running https://vnexpress.net/the-thao/video.....\n"
     ]
    },
    {
     "name": "stderr",
     "output_type": "stream",
     "text": [
      "100%|██████████| 48/48 [09:50<00:00, 12.30s/it]\n",
      "<ipython-input-1-afb619520927>:16: DeprecationWarning: executable_path has been deprecated, please pass in a Service object\n",
      "  driver = webdriver.Chrome('./chromedriver_linux64/chromedriver', options=option)\n"
     ]
    },
    {
     "name": "stdout",
     "output_type": "stream",
     "text": [
      "\n",
      "Running https://vnexpress.net/the-thao/photo.....\n"
     ]
    },
    {
     "name": "stderr",
     "output_type": "stream",
     "text": [
      "100%|██████████| 49/49 [03:27<00:00,  4.24s/it]\n",
      "<ipython-input-1-afb619520927>:16: DeprecationWarning: executable_path has been deprecated, please pass in a Service object\n",
      "  driver = webdriver.Chrome('./chromedriver_linux64/chromedriver', options=option)\n"
     ]
    },
    {
     "name": "stdout",
     "output_type": "stream",
     "text": [
      "\n",
      "Running https://vnexpress.net/the-thao/tuong-thuat.....\n"
     ]
    },
    {
     "name": "stderr",
     "output_type": "stream",
     "text": [
      "100%|██████████| 45/45 [04:43<00:00,  6.31s/it]\n",
      "<ipython-input-1-afb619520927>:16: DeprecationWarning: executable_path has been deprecated, please pass in a Service object\n",
      "  driver = webdriver.Chrome('./chromedriver_linux64/chromedriver', options=option)\n"
     ]
    },
    {
     "name": "stdout",
     "output_type": "stream",
     "text": [
      "\n",
      "Running https://vnexpress.net/phap-luat.....\n"
     ]
    },
    {
     "name": "stderr",
     "output_type": "stream",
     "text": [
      "100%|██████████| 74/74 [10:09<00:00,  8.24s/it]\n",
      "<ipython-input-1-afb619520927>:16: DeprecationWarning: executable_path has been deprecated, please pass in a Service object\n",
      "  driver = webdriver.Chrome('./chromedriver_linux64/chromedriver', options=option)\n"
     ]
    },
    {
     "name": "stdout",
     "output_type": "stream",
     "text": [
      "\n",
      "Running https://vnexpress.net/phap-luat/ho-so-pha-an.....\n"
     ]
    },
    {
     "name": "stderr",
     "output_type": "stream",
     "text": [
      "100%|██████████| 51/51 [06:47<00:00,  7.99s/it]\n",
      "<ipython-input-1-afb619520927>:16: DeprecationWarning: executable_path has been deprecated, please pass in a Service object\n",
      "  driver = webdriver.Chrome('./chromedriver_linux64/chromedriver', options=option)\n"
     ]
    },
    {
     "name": "stdout",
     "output_type": "stream",
     "text": [
      "\n",
      "Running https://vnexpress.net/phap-luat/tu-van.....\n"
     ]
    },
    {
     "name": "stderr",
     "output_type": "stream",
     "text": [
      "100%|██████████| 46/46 [04:00<00:00,  5.23s/it]\n",
      "<ipython-input-1-afb619520927>:16: DeprecationWarning: executable_path has been deprecated, please pass in a Service object\n",
      "  driver = webdriver.Chrome('./chromedriver_linux64/chromedriver', options=option)\n"
     ]
    },
    {
     "name": "stdout",
     "output_type": "stream",
     "text": [
      "\n",
      "Running https://vnexpress.net/phap-luat/video.....\n"
     ]
    },
    {
     "name": "stderr",
     "output_type": "stream",
     "text": [
      "100%|██████████| 50/50 [11:05<00:00, 13.30s/it]\n",
      "<ipython-input-1-afb619520927>:16: DeprecationWarning: executable_path has been deprecated, please pass in a Service object\n",
      "  driver = webdriver.Chrome('./chromedriver_linux64/chromedriver', options=option)\n"
     ]
    },
    {
     "name": "stdout",
     "output_type": "stream",
     "text": [
      "\n",
      "Running https://vnexpress.net/giao-duc.....\n"
     ]
    },
    {
     "name": "stderr",
     "output_type": "stream",
     "text": [
      "100%|██████████| 85/85 [07:31<00:00,  5.32s/it]\n",
      "<ipython-input-1-afb619520927>:16: DeprecationWarning: executable_path has been deprecated, please pass in a Service object\n",
      "  driver = webdriver.Chrome('./chromedriver_linux64/chromedriver', options=option)\n"
     ]
    },
    {
     "name": "stdout",
     "output_type": "stream",
     "text": [
      "\n",
      "Running https://vnexpress.net/giao-duc/tin-tuc.....\n"
     ]
    },
    {
     "name": "stderr",
     "output_type": "stream",
     "text": [
      "100%|██████████| 53/53 [05:42<00:00,  6.46s/it]\n",
      "<ipython-input-1-afb619520927>:16: DeprecationWarning: executable_path has been deprecated, please pass in a Service object\n",
      "  driver = webdriver.Chrome('./chromedriver_linux64/chromedriver', options=option)\n"
     ]
    },
    {
     "name": "stdout",
     "output_type": "stream",
     "text": [
      "\n",
      "Running https://vnexpress.net/giao-duc/tuyen-sinh.....\n"
     ]
    },
    {
     "name": "stderr",
     "output_type": "stream",
     "text": [
      "100%|██████████| 62/62 [06:33<00:00,  6.34s/it]\n",
      "<ipython-input-1-afb619520927>:16: DeprecationWarning: executable_path has been deprecated, please pass in a Service object\n",
      "  driver = webdriver.Chrome('./chromedriver_linux64/chromedriver', options=option)\n"
     ]
    },
    {
     "name": "stdout",
     "output_type": "stream",
     "text": [
      "\n",
      "Running https://vnexpress.net/giao-duc/chan-dung.....\n"
     ]
    },
    {
     "name": "stderr",
     "output_type": "stream",
     "text": [
      "100%|██████████| 56/56 [06:17<00:00,  6.74s/it]\n",
      "<ipython-input-1-afb619520927>:16: DeprecationWarning: executable_path has been deprecated, please pass in a Service object\n",
      "  driver = webdriver.Chrome('./chromedriver_linux64/chromedriver', options=option)\n"
     ]
    },
    {
     "name": "stdout",
     "output_type": "stream",
     "text": [
      "\n",
      "Running https://vnexpress.net/giao-duc/du-hoc.....\n"
     ]
    },
    {
     "name": "stderr",
     "output_type": "stream",
     "text": [
      "100%|██████████| 54/54 [06:33<00:00,  7.29s/it]\n",
      "<ipython-input-1-afb619520927>:16: DeprecationWarning: executable_path has been deprecated, please pass in a Service object\n",
      "  driver = webdriver.Chrome('./chromedriver_linux64/chromedriver', options=option)\n"
     ]
    },
    {
     "name": "stdout",
     "output_type": "stream",
     "text": [
      "\n",
      "Running https://vnexpress.net/giao-duc/hoc-tieng-anh.....\n"
     ]
    },
    {
     "name": "stderr",
     "output_type": "stream",
     "text": [
      "100%|██████████| 51/51 [05:54<00:00,  6.95s/it]\n",
      "<ipython-input-1-afb619520927>:16: DeprecationWarning: executable_path has been deprecated, please pass in a Service object\n",
      "  driver = webdriver.Chrome('./chromedriver_linux64/chromedriver', options=option)\n"
     ]
    },
    {
     "name": "stdout",
     "output_type": "stream",
     "text": [
      "\n",
      "Running https://vnexpress.net/giao-duc/trac-nghiem.....\n"
     ]
    },
    {
     "name": "stderr",
     "output_type": "stream",
     "text": [
      "100%|██████████| 54/54 [06:07<00:00,  6.80s/it]\n",
      "<ipython-input-1-afb619520927>:16: DeprecationWarning: executable_path has been deprecated, please pass in a Service object\n",
      "  driver = webdriver.Chrome('./chromedriver_linux64/chromedriver', options=option)\n"
     ]
    },
    {
     "name": "stdout",
     "output_type": "stream",
     "text": [
      "\n",
      "Running https://vnexpress.net/giao-duc/giao-duc-40.....\n"
     ]
    },
    {
     "name": "stderr",
     "output_type": "stream",
     "text": [
      "100%|██████████| 56/56 [04:06<00:00,  4.40s/it]\n",
      "<ipython-input-1-afb619520927>:16: DeprecationWarning: executable_path has been deprecated, please pass in a Service object\n",
      "  driver = webdriver.Chrome('./chromedriver_linux64/chromedriver', options=option)\n"
     ]
    },
    {
     "name": "stdout",
     "output_type": "stream",
     "text": [
      "\n",
      "Running https://vnexpress.net/suc-khoe.....\n"
     ]
    },
    {
     "name": "stderr",
     "output_type": "stream",
     "text": [
      "100%|██████████| 89/89 [07:49<00:00,  5.27s/it]\n",
      "<ipython-input-1-afb619520927>:16: DeprecationWarning: executable_path has been deprecated, please pass in a Service object\n",
      "  driver = webdriver.Chrome('./chromedriver_linux64/chromedriver', options=option)\n"
     ]
    },
    {
     "name": "stdout",
     "output_type": "stream",
     "text": [
      "\n",
      "Running https://vnexpress.net/suc-khoe/tin-tuc.....\n"
     ]
    },
    {
     "name": "stderr",
     "output_type": "stream",
     "text": [
      "100%|██████████| 51/51 [05:39<00:00,  6.65s/it]\n",
      "<ipython-input-1-afb619520927>:16: DeprecationWarning: executable_path has been deprecated, please pass in a Service object\n",
      "  driver = webdriver.Chrome('./chromedriver_linux64/chromedriver', options=option)\n"
     ]
    },
    {
     "name": "stdout",
     "output_type": "stream",
     "text": [
      "\n",
      "Running https://vnexpress.net/suc-khoe/tu-van.....\n"
     ]
    },
    {
     "name": "stderr",
     "output_type": "stream",
     "text": [
      "100%|██████████| 45/45 [05:47<00:00,  7.73s/it]\n",
      "<ipython-input-1-afb619520927>:16: DeprecationWarning: executable_path has been deprecated, please pass in a Service object\n",
      "  driver = webdriver.Chrome('./chromedriver_linux64/chromedriver', options=option)\n"
     ]
    },
    {
     "name": "stdout",
     "output_type": "stream",
     "text": [
      "\n",
      "Running https://vnexpress.net/suc-khoe/dinh-duong.....\n"
     ]
    },
    {
     "name": "stderr",
     "output_type": "stream",
     "text": [
      "100%|██████████| 51/51 [05:31<00:00,  6.50s/it]\n",
      "<ipython-input-1-afb619520927>:16: DeprecationWarning: executable_path has been deprecated, please pass in a Service object\n",
      "  driver = webdriver.Chrome('./chromedriver_linux64/chromedriver', options=option)\n"
     ]
    },
    {
     "name": "stdout",
     "output_type": "stream",
     "text": [
      "\n",
      "Running https://vnexpress.net/suc-khoe/khoe-dep.....\n"
     ]
    },
    {
     "name": "stderr",
     "output_type": "stream",
     "text": [
      "100%|██████████| 51/51 [05:30<00:00,  6.47s/it]\n",
      "<ipython-input-1-afb619520927>:16: DeprecationWarning: executable_path has been deprecated, please pass in a Service object\n",
      "  driver = webdriver.Chrome('./chromedriver_linux64/chromedriver', options=option)\n"
     ]
    },
    {
     "name": "stdout",
     "output_type": "stream",
     "text": [
      "\n",
      "Running https://vnexpress.net/suc-khoe/dan-ong.....\n"
     ]
    },
    {
     "name": "stderr",
     "output_type": "stream",
     "text": [
      "100%|██████████| 51/51 [06:06<00:00,  7.19s/it]\n",
      "<ipython-input-1-afb619520927>:16: DeprecationWarning: executable_path has been deprecated, please pass in a Service object\n",
      "  driver = webdriver.Chrome('./chromedriver_linux64/chromedriver', options=option)\n"
     ]
    },
    {
     "name": "stdout",
     "output_type": "stream",
     "text": [
      "\n",
      "Running https://vnexpress.net/suc-khoe/cac-benh.....\n"
     ]
    },
    {
     "name": "stderr",
     "output_type": "stream",
     "text": [
      "100%|██████████| 51/51 [04:22<00:00,  5.14s/it]\n",
      "<ipython-input-1-afb619520927>:16: DeprecationWarning: executable_path has been deprecated, please pass in a Service object\n",
      "  driver = webdriver.Chrome('./chromedriver_linux64/chromedriver', options=option)\n"
     ]
    },
    {
     "name": "stdout",
     "output_type": "stream",
     "text": [
      "\n",
      "Running https://vnexpress.net/suc-khoe/vaccine.....\n"
     ]
    },
    {
     "name": "stderr",
     "output_type": "stream",
     "text": [
      "100%|██████████| 35/35 [01:33<00:00,  2.67s/it]\n",
      "<ipython-input-1-afb619520927>:16: DeprecationWarning: executable_path has been deprecated, please pass in a Service object\n",
      "  driver = webdriver.Chrome('./chromedriver_linux64/chromedriver', options=option)\n"
     ]
    },
    {
     "name": "stdout",
     "output_type": "stream",
     "text": [
      "\n",
      "Running https://vnexpress.net/suc-khoe/di-chung-covid.....\n"
     ]
    },
    {
     "name": "stderr",
     "output_type": "stream",
     "text": [
      "100%|██████████| 91/91 [01:26<00:00,  1.05it/s]\n",
      "<ipython-input-1-afb619520927>:16: DeprecationWarning: executable_path has been deprecated, please pass in a Service object\n",
      "  driver = webdriver.Chrome('./chromedriver_linux64/chromedriver', options=option)\n"
     ]
    },
    {
     "name": "stdout",
     "output_type": "stream",
     "text": [
      "\n",
      "Running https://vnexpress.net/suc-khoe/di-truyen.....\n"
     ]
    },
    {
     "name": "stderr",
     "output_type": "stream",
     "text": [
      "100%|██████████| 30/30 [02:47<00:00,  5.58s/it]\n",
      "<ipython-input-1-afb619520927>:16: DeprecationWarning: executable_path has been deprecated, please pass in a Service object\n",
      "  driver = webdriver.Chrome('./chromedriver_linux64/chromedriver', options=option)\n"
     ]
    },
    {
     "name": "stdout",
     "output_type": "stream",
     "text": [
      "\n",
      "Running https://vnexpress.net/doi-song.....\n"
     ]
    },
    {
     "name": "stderr",
     "output_type": "stream",
     "text": [
      "100%|██████████| 97/97 [10:16<00:00,  6.35s/it]\n",
      "<ipython-input-1-afb619520927>:16: DeprecationWarning: executable_path has been deprecated, please pass in a Service object\n",
      "  driver = webdriver.Chrome('./chromedriver_linux64/chromedriver', options=option)\n"
     ]
    },
    {
     "name": "stdout",
     "output_type": "stream",
     "text": [
      "\n",
      "Running https://vnexpress.net/doi-song/to-am.....\n"
     ]
    },
    {
     "name": "stderr",
     "output_type": "stream",
     "text": [
      "100%|██████████| 48/48 [05:11<00:00,  6.48s/it]\n",
      "<ipython-input-1-afb619520927>:16: DeprecationWarning: executable_path has been deprecated, please pass in a Service object\n",
      "  driver = webdriver.Chrome('./chromedriver_linux64/chromedriver', options=option)\n"
     ]
    },
    {
     "name": "stdout",
     "output_type": "stream",
     "text": [
      "\n",
      "Running https://vnexpress.net/doi-song/bai-hoc-song.....\n"
     ]
    },
    {
     "name": "stderr",
     "output_type": "stream",
     "text": [
      "100%|██████████| 49/49 [03:58<00:00,  4.87s/it]\n",
      "<ipython-input-1-afb619520927>:16: DeprecationWarning: executable_path has been deprecated, please pass in a Service object\n",
      "  driver = webdriver.Chrome('./chromedriver_linux64/chromedriver', options=option)\n"
     ]
    },
    {
     "name": "stdout",
     "output_type": "stream",
     "text": [
      "\n",
      "Running https://vnexpress.net/doi-song/nha.....\n"
     ]
    },
    {
     "name": "stderr",
     "output_type": "stream",
     "text": [
      "100%|██████████| 81/81 [04:43<00:00,  3.50s/it]\n",
      "<ipython-input-1-afb619520927>:16: DeprecationWarning: executable_path has been deprecated, please pass in a Service object\n",
      "  driver = webdriver.Chrome('./chromedriver_linux64/chromedriver', options=option)\n"
     ]
    },
    {
     "name": "stdout",
     "output_type": "stream",
     "text": [
      "\n",
      "Running https://vnexpress.net/doi-song/tieu-dung.....\n"
     ]
    },
    {
     "name": "stderr",
     "output_type": "stream",
     "text": [
      "100%|██████████| 42/42 [04:09<00:00,  5.94s/it]\n",
      "<ipython-input-1-afb619520927>:16: DeprecationWarning: executable_path has been deprecated, please pass in a Service object\n",
      "  driver = webdriver.Chrome('./chromedriver_linux64/chromedriver', options=option)\n"
     ]
    },
    {
     "name": "stdout",
     "output_type": "stream",
     "text": [
      "\n",
      "Running https://vnexpress.net/doi-song/cooking.....\n"
     ]
    },
    {
     "name": "stderr",
     "output_type": "stream",
     "text": [
      "0it [00:00, ?it/s]\n"
     ]
    },
    {
     "name": "stdout",
     "output_type": "stream",
     "text": [
      "\n",
      "Running https://vnexpress.net/du-lich.....\n"
     ]
    },
    {
     "name": "stderr",
     "output_type": "stream",
     "text": [
      "100%|██████████| 173/173 [03:08<00:00,  1.09s/it]\n",
      "<ipython-input-1-afb619520927>:16: DeprecationWarning: executable_path has been deprecated, please pass in a Service object\n",
      "  driver = webdriver.Chrome('./chromedriver_linux64/chromedriver', options=option)\n"
     ]
    },
    {
     "name": "stdout",
     "output_type": "stream",
     "text": [
      "\n",
      "Running https://vnexpress.net/du-lich/diem-den.....\n"
     ]
    },
    {
     "name": "stderr",
     "output_type": "stream",
     "text": [
      "100%|██████████| 53/53 [05:50<00:00,  6.61s/it]\n",
      "<ipython-input-1-afb619520927>:16: DeprecationWarning: executable_path has been deprecated, please pass in a Service object\n",
      "  driver = webdriver.Chrome('./chromedriver_linux64/chromedriver', options=option)\n"
     ]
    },
    {
     "name": "stdout",
     "output_type": "stream",
     "text": [
      "\n",
      "Running https://vnexpress.net/du-lich/am-thuc.....\n"
     ]
    },
    {
     "name": "stderr",
     "output_type": "stream",
     "text": [
      "100%|██████████| 52/52 [06:00<00:00,  6.93s/it]\n",
      "<ipython-input-1-afb619520927>:16: DeprecationWarning: executable_path has been deprecated, please pass in a Service object\n",
      "  driver = webdriver.Chrome('./chromedriver_linux64/chromedriver', options=option)\n"
     ]
    },
    {
     "name": "stdout",
     "output_type": "stream",
     "text": [
      "\n",
      "Running https://vnexpress.net/du-lich/dau-chan.....\n"
     ]
    },
    {
     "name": "stderr",
     "output_type": "stream",
     "text": [
      "100%|██████████| 47/47 [04:48<00:00,  6.13s/it]\n",
      "<ipython-input-1-afb619520927>:16: DeprecationWarning: executable_path has been deprecated, please pass in a Service object\n",
      "  driver = webdriver.Chrome('./chromedriver_linux64/chromedriver', options=option)\n"
     ]
    },
    {
     "name": "stdout",
     "output_type": "stream",
     "text": [
      "\n",
      "Running https://vnexpress.net/du-lich/tu-van.....\n"
     ]
    },
    {
     "name": "stderr",
     "output_type": "stream",
     "text": [
      "100%|██████████| 22/22 [01:30<00:00,  4.11s/it]\n",
      "<ipython-input-1-afb619520927>:16: DeprecationWarning: executable_path has been deprecated, please pass in a Service object\n",
      "  driver = webdriver.Chrome('./chromedriver_linux64/chromedriver', options=option)\n"
     ]
    },
    {
     "name": "stdout",
     "output_type": "stream",
     "text": [
      "\n",
      "Running https://vnexpress.net/du-lich/cam-nang.....\n"
     ]
    },
    {
     "name": "stderr",
     "output_type": "stream",
     "text": [
      "100%|██████████| 24/24 [00:01<00:00, 18.74it/s]\n"
     ]
    },
    {
     "name": "stdout",
     "output_type": "stream",
     "text": [
      "\n",
      "Running https://vnexpress.net/du-lich/anh-video.....\n"
     ]
    },
    {
     "name": "stderr",
     "output_type": "stream",
     "text": [
      "100%|██████████| 32/32 [02:48<00:00,  5.26s/it]\n",
      "<ipython-input-1-afb619520927>:16: DeprecationWarning: executable_path has been deprecated, please pass in a Service object\n",
      "  driver = webdriver.Chrome('./chromedriver_linux64/chromedriver', options=option)\n"
     ]
    },
    {
     "name": "stdout",
     "output_type": "stream",
     "text": [
      "\n",
      "Running https://vnexpress.net/du-lich/an-va-choi.....\n"
     ]
    },
    {
     "name": "stderr",
     "output_type": "stream",
     "text": [
      "100%|██████████| 16/16 [01:07<00:00,  4.21s/it]\n",
      "<ipython-input-1-afb619520927>:16: DeprecationWarning: executable_path has been deprecated, please pass in a Service object\n",
      "  driver = webdriver.Chrome('./chromedriver_linux64/chromedriver', options=option)\n"
     ]
    },
    {
     "name": "stdout",
     "output_type": "stream",
     "text": [
      "\n",
      "Running https://vnexpress.net/du-lich/mo-cua-du-lich.....\n"
     ]
    },
    {
     "name": "stderr",
     "output_type": "stream",
     "text": [
      "100%|██████████| 35/35 [03:23<00:00,  5.80s/it]\n",
      "<ipython-input-1-afb619520927>:16: DeprecationWarning: executable_path has been deprecated, please pass in a Service object\n",
      "  driver = webdriver.Chrome('./chromedriver_linux64/chromedriver', options=option)\n"
     ]
    },
    {
     "name": "stdout",
     "output_type": "stream",
     "text": [
      "\n",
      "Running https://vnexpress.net/so-hoa.....\n"
     ]
    },
    {
     "name": "stderr",
     "output_type": "stream",
     "text": [
      "100%|██████████| 131/131 [05:38<00:00,  2.58s/it]\n",
      "<ipython-input-1-afb619520927>:16: DeprecationWarning: executable_path has been deprecated, please pass in a Service object\n",
      "  driver = webdriver.Chrome('./chromedriver_linux64/chromedriver', options=option)\n"
     ]
    },
    {
     "name": "stdout",
     "output_type": "stream",
     "text": [
      "\n",
      "Running https://vnexpress.net/so-hoa/cong-nghe.....\n"
     ]
    },
    {
     "name": "stderr",
     "output_type": "stream",
     "text": [
      "100%|██████████| 50/50 [06:27<00:00,  7.75s/it]\n",
      "<ipython-input-1-afb619520927>:16: DeprecationWarning: executable_path has been deprecated, please pass in a Service object\n",
      "  driver = webdriver.Chrome('./chromedriver_linux64/chromedriver', options=option)\n"
     ]
    },
    {
     "name": "stdout",
     "output_type": "stream",
     "text": [
      "\n",
      "Running https://vnexpress.net/so-hoa/san-pham.....\n"
     ]
    },
    {
     "name": "stderr",
     "output_type": "stream",
     "text": [
      "100%|██████████| 53/53 [04:04<00:00,  4.62s/it]\n",
      "<ipython-input-1-afb619520927>:16: DeprecationWarning: executable_path has been deprecated, please pass in a Service object\n",
      "  driver = webdriver.Chrome('./chromedriver_linux64/chromedriver', options=option)\n"
     ]
    },
    {
     "name": "stdout",
     "output_type": "stream",
     "text": [
      "\n",
      "Running https://vnexpress.net/so-hoa/blockchain.....\n"
     ]
    },
    {
     "name": "stderr",
     "output_type": "stream",
     "text": [
      "100%|██████████| 44/44 [04:47<00:00,  6.53s/it]\n",
      "<ipython-input-1-afb619520927>:16: DeprecationWarning: executable_path has been deprecated, please pass in a Service object\n",
      "  driver = webdriver.Chrome('./chromedriver_linux64/chromedriver', options=option)\n"
     ]
    },
    {
     "name": "stdout",
     "output_type": "stream",
     "text": [
      "\n",
      "Running https://vnexpress.net/so-hoa/tech-awards-2022.....\n"
     ]
    },
    {
     "name": "stderr",
     "output_type": "stream",
     "text": [
      "100%|██████████| 9/9 [00:42<00:00,  4.69s/it]\n",
      "<ipython-input-1-afb619520927>:16: DeprecationWarning: executable_path has been deprecated, please pass in a Service object\n",
      "  driver = webdriver.Chrome('./chromedriver_linux64/chromedriver', options=option)\n"
     ]
    },
    {
     "name": "stdout",
     "output_type": "stream",
     "text": [
      "\n",
      "Running https://startup.vnexpress.net/.....\n"
     ]
    },
    {
     "name": "stderr",
     "output_type": "stream",
     "text": [
      "0it [00:00, ?it/s]\n"
     ]
    },
    {
     "name": "stdout",
     "output_type": "stream",
     "text": [
      "\n",
      "Running https://vnexpress.net/oto-xe-may.....\n"
     ]
    },
    {
     "name": "stderr",
     "output_type": "stream",
     "text": [
      "100%|██████████| 106/106 [11:45<00:00,  6.65s/it]\n"
     ]
    },
    {
     "name": "stdout",
     "output_type": "stream",
     "text": [
      "\n",
      "Running https://vnexpress.net/oto-xe-may/thi-truong.....\n"
     ]
    },
    {
     "name": "stderr",
     "output_type": "stream",
     "text": [
      "<ipython-input-1-afb619520927>:16: DeprecationWarning: executable_path has been deprecated, please pass in a Service object\n",
      "  driver = webdriver.Chrome('./chromedriver_linux64/chromedriver', options=option)\n",
      "100%|██████████| 48/48 [07:26<00:00,  9.30s/it]\n",
      "<ipython-input-1-afb619520927>:16: DeprecationWarning: executable_path has been deprecated, please pass in a Service object\n",
      "  driver = webdriver.Chrome('./chromedriver_linux64/chromedriver', options=option)\n"
     ]
    },
    {
     "name": "stdout",
     "output_type": "stream",
     "text": [
      "\n",
      "Running https://vnexpress.net/oto-xe-may/cam-lai.....\n"
     ]
    },
    {
     "name": "stderr",
     "output_type": "stream",
     "text": [
      "100%|██████████| 47/47 [07:24<00:00,  9.45s/it]\n",
      "<ipython-input-1-afb619520927>:16: DeprecationWarning: executable_path has been deprecated, please pass in a Service object\n",
      "  driver = webdriver.Chrome('./chromedriver_linux64/chromedriver', options=option)\n"
     ]
    },
    {
     "name": "stdout",
     "output_type": "stream",
     "text": [
      "\n",
      "Running https://vnexpress.net/oto-xe-may/dien-dan.....\n"
     ]
    },
    {
     "name": "stderr",
     "output_type": "stream",
     "text": [
      "100%|██████████| 39/39 [03:29<00:00,  5.38s/it]\n",
      "<ipython-input-1-afb619520927>:16: DeprecationWarning: executable_path has been deprecated, please pass in a Service object\n",
      "  driver = webdriver.Chrome('./chromedriver_linux64/chromedriver', options=option)\n"
     ]
    },
    {
     "name": "stdout",
     "output_type": "stream",
     "text": [
      "\n",
      "Running https://vnexpress.net/oto-xe-may/v-car.....\n"
     ]
    },
    {
     "name": "stderr",
     "output_type": "stream",
     "text": [
      "0it [00:00, ?it/s]\n"
     ]
    },
    {
     "name": "stdout",
     "output_type": "stream",
     "text": [
      "\n",
      "Running https://vnexpress.net/interactive/2016/thi-sat-hach-lai-xe.....\n"
     ]
    },
    {
     "name": "stderr",
     "output_type": "stream",
     "text": [
      "0it [00:00, ?it/s]\n"
     ]
    },
    {
     "name": "stdout",
     "output_type": "stream",
     "text": [
      "\n",
      "Running https://raovat.vnexpress.net/o-to-xe.....\n"
     ]
    },
    {
     "name": "stderr",
     "output_type": "stream",
     "text": [
      "0it [00:00, ?it/s]\n"
     ]
    },
    {
     "name": "stdout",
     "output_type": "stream",
     "text": [
      "\n",
      "Running https://vnexpress.net/y-kien.....\n"
     ]
    },
    {
     "name": "stderr",
     "output_type": "stream",
     "text": [
      "100%|██████████| 50/50 [04:58<00:00,  5.96s/it]\n",
      "<ipython-input-1-afb619520927>:16: DeprecationWarning: executable_path has been deprecated, please pass in a Service object\n",
      "  driver = webdriver.Chrome('./chromedriver_linux64/chromedriver', options=option)\n"
     ]
    },
    {
     "name": "stdout",
     "output_type": "stream",
     "text": [
      "\n",
      "Running https://vnexpress.net/y-kien/thoi-su.....\n"
     ]
    },
    {
     "name": "stderr",
     "output_type": "stream",
     "text": [
      "100%|██████████| 44/44 [04:37<00:00,  6.31s/it]\n",
      "<ipython-input-1-afb619520927>:16: DeprecationWarning: executable_path has been deprecated, please pass in a Service object\n",
      "  driver = webdriver.Chrome('./chromedriver_linux64/chromedriver', options=option)\n"
     ]
    },
    {
     "name": "stdout",
     "output_type": "stream",
     "text": [
      "\n",
      "Running https://vnexpress.net/y-kien/doi-song.....\n"
     ]
    },
    {
     "name": "stderr",
     "output_type": "stream",
     "text": [
      "100%|██████████| 44/44 [04:55<00:00,  6.71s/it]\n",
      "<ipython-input-1-afb619520927>:16: DeprecationWarning: executable_path has been deprecated, please pass in a Service object\n",
      "  driver = webdriver.Chrome('./chromedriver_linux64/chromedriver', options=option)\n"
     ]
    },
    {
     "name": "stdout",
     "output_type": "stream",
     "text": [
      "\n",
      "Running https://vnexpress.net/tam-su.....\n"
     ]
    },
    {
     "name": "stderr",
     "output_type": "stream",
     "text": [
      "100%|██████████| 60/60 [06:20<00:00,  6.35s/it]\n",
      "<ipython-input-1-afb619520927>:16: DeprecationWarning: executable_path has been deprecated, please pass in a Service object\n",
      "  driver = webdriver.Chrome('./chromedriver_linux64/chromedriver', options=option)\n"
     ]
    },
    {
     "name": "stdout",
     "output_type": "stream",
     "text": [
      "\n",
      "Running https://vnexpress.net/tam-su/chuyen-gia-go-roi.....\n"
     ]
    },
    {
     "name": "stderr",
     "output_type": "stream",
     "text": [
      "100%|██████████| 40/40 [04:41<00:00,  7.03s/it]\n",
      "<ipython-input-1-afb619520927>:16: DeprecationWarning: executable_path has been deprecated, please pass in a Service object\n",
      "  driver = webdriver.Chrome('./chromedriver_linux64/chromedriver', options=option)\n"
     ]
    },
    {
     "name": "stdout",
     "output_type": "stream",
     "text": [
      "\n",
      "Running https://vnexpress.net/tam-su/hen-ho.....\n"
     ]
    },
    {
     "name": "stderr",
     "output_type": "stream",
     "text": [
      "100%|██████████| 35/35 [08:02<00:00, 13.77s/it]\n",
      "<ipython-input-1-afb619520927>:16: DeprecationWarning: executable_path has been deprecated, please pass in a Service object\n",
      "  driver = webdriver.Chrome('./chromedriver_linux64/chromedriver', options=option)\n"
     ]
    },
    {
     "name": "stdout",
     "output_type": "stream",
     "text": [
      "\n",
      "Running https://vnexpress.net/hai.....\n"
     ]
    },
    {
     "name": "stderr",
     "output_type": "stream",
     "text": [
      "100%|██████████| 50/50 [04:59<00:00,  5.99s/it]\n",
      "<ipython-input-1-afb619520927>:16: DeprecationWarning: executable_path has been deprecated, please pass in a Service object\n",
      "  driver = webdriver.Chrome('./chromedriver_linux64/chromedriver', options=option)\n"
     ]
    },
    {
     "name": "stdout",
     "output_type": "stream",
     "text": [
      "\n",
      "Running https://vnexpress.net/hai/cuoi.....\n"
     ]
    },
    {
     "name": "stderr",
     "output_type": "stream",
     "text": [
      "100%|██████████| 51/51 [04:26<00:00,  5.23s/it]\n",
      "<ipython-input-1-afb619520927>:16: DeprecationWarning: executable_path has been deprecated, please pass in a Service object\n",
      "  driver = webdriver.Chrome('./chromedriver_linux64/chromedriver', options=option)\n"
     ]
    },
    {
     "name": "stdout",
     "output_type": "stream",
     "text": [
      "\n",
      "Running https://vnexpress.net/hai/do-vui.....\n"
     ]
    },
    {
     "name": "stderr",
     "output_type": "stream",
     "text": [
      "100%|██████████| 51/51 [04:23<00:00,  5.17s/it]\n",
      "<ipython-input-1-afb619520927>:16: DeprecationWarning: executable_path has been deprecated, please pass in a Service object\n",
      "  driver = webdriver.Chrome('./chromedriver_linux64/chromedriver', options=option)\n"
     ]
    },
    {
     "name": "stdout",
     "output_type": "stream",
     "text": [
      "\n",
      "Running https://vnexpress.net/hai/chuyen-la.....\n"
     ]
    },
    {
     "name": "stderr",
     "output_type": "stream",
     "text": [
      "100%|██████████| 51/51 [04:33<00:00,  5.36s/it]\n",
      "<ipython-input-1-afb619520927>:16: DeprecationWarning: executable_path has been deprecated, please pass in a Service object\n",
      "  driver = webdriver.Chrome('./chromedriver_linux64/chromedriver', options=option)\n"
     ]
    },
    {
     "name": "stdout",
     "output_type": "stream",
     "text": [
      "\n",
      "Running https://vnexpress.net/hai/thu-cung.....\n"
     ]
    },
    {
     "name": "stderr",
     "output_type": "stream",
     "text": [
      "100%|██████████| 51/51 [04:40<00:00,  5.50s/it]\n"
     ]
    },
    {
     "name": "stdout",
     "output_type": "stream",
     "text": [
      "3904\n",
      "                                               title  \\\n",
      "0  Bộ trưởng Công Thương: 'Nói thiếu xăng dầu là ...   \n",
      "1                                 Quần xanh áo trắng   \n",
      "2           Man Utd, Arsenal gặp khó ở Europa League   \n",
      "3      26 khu 'đất vàng' bỏ hoang ở trung tâm TP HCM   \n",
      "4               Mariupol từ thiên đường thành đổ nát   \n",
      "\n",
      "                                             content  \\\n",
      "0  Bộ trưởng Nguyễn Hồng Diên cho biết nguồn cung...   \n",
      "1  Tiến sĩ, Chuyên gia Nghiên cứu và Phát triển\\n...   \n",
      "2  THỔ NHĨ KỲMan Utd cùng bảng Real Sociedad, She...   \n",
      "3  Nhiều dự án cao ốc tại quận 1 với tổng diện tí...   \n",
      "4  Maryna Holovnova từng có những ngày hè tươi đẹ...   \n",
      "\n",
      "                                                link  \n",
      "0  https://vnexpress.net/bo-truong-cong-thuong-no...  \n",
      "1  https://vnexpress.net/quan-xanh-ao-trang-45039...  \n",
      "2  https://vnexpress.net/man-utd-arsenal-gap-kho-...  \n",
      "3  https://vnexpress.net/26-khu-dat-vang-bo-hoang...  \n",
      "4  https://vnexpress.net/mariupol-tu-thien-duong-...  \n"
     ]
    }
   ],
   "source": [
    "from selenium import webdriver\n",
    "from selenium.webdriver.common.by import By\n",
    "from selenium.webdriver.support.ui import WebDriverWait\n",
    "from selenium.webdriver.support import expected_conditions as EC\n",
    "from selenium.webdriver.common.action_chains import ActionChains\n",
    "from selenium.webdriver.common.keys import Keys\n",
    "import pandas as pd\n",
    "from tqdm import tqdm\n",
    "import time\n",
    "\n",
    "\n",
    "def crawl_data(url, df_news):\n",
    "    option = webdriver.ChromeOptions()\n",
    "    option.add_argument('headless')\n",
    "    # Connect Chrome\n",
    "    driver = webdriver.Chrome('./chromedriver_linux64/chromedriver', options=option)\n",
    "    # Access to the web page\n",
    "    driver.get(url)\n",
    "    # Click to each title news\n",
    "    title_news = driver.find_elements(by=By.CLASS_NAME, value=\"title-news\")\n",
    "\n",
    "    # Get content of each news\n",
    "    for new in tqdm(title_news):\n",
    "        try:\n",
    "            # Switch to the original window\n",
    "            driver.switch_to.window(driver.window_handles[0])\n",
    "            # Click to news\n",
    "            # WebDriverWait(new, 10).until(EC.presence_of_element_located((By.TAG_NAME, \"a\")))\n",
    "            click_title = new.find_element(by=By.TAG_NAME, value=\"a\")\n",
    "            action = ActionChains(driver)    \n",
    "            action.key_down(Keys.CONTROL).click(click_title).key_up(Keys.CONTROL).perform() \n",
    "            # Switch to the news window\n",
    "            driver.switch_to.window(driver.window_handles[-1])\n",
    "\n",
    "            # Get content\n",
    "            try:\n",
    "                try:\n",
    "                    WebDriverWait(driver, 10).until(EC.presence_of_element_located((By.CLASS_NAME, \"title-detail\")))        \n",
    "                    title_detail = driver.find_element(by=By.CLASS_NAME, value=\"title-detail\").text\n",
    "                except:\n",
    "                    WebDriverWait(driver, 10).until(EC.presence_of_element_located((By.CLASS_NAME, \"title-news\")))        \n",
    "                    title_detail = driver.find_element(by=By.CLASS_NAME, value=\"title-news\").text\n",
    "            except:\n",
    "                driver.close()\n",
    "                continue\n",
    "            link = driver.current_url\n",
    "            content = driver.find_element(by=By.CLASS_NAME, value=\"description\").text\n",
    "            for cont in driver.find_elements(by=By.CLASS_NAME, value=\"Normal\"):\n",
    "                content += f\"\\n{cont.text}\"\n",
    "            df_news.loc[len(df_news.index)] = [title_detail, content, link]\n",
    "            driver.close()\n",
    "        except:\n",
    "            pass\n",
    "    # Switch to the original window\n",
    "    # driver.switch_to.window(driver.window_handles[0])\n",
    "    driver.quit()\n",
    "    return df_news\n",
    "\n",
    "\n",
    "def get_urls():\n",
    "    # Access VNEXPRESS\n",
    "    url = f\"https://vnexpress.net/\"\n",
    "    # Connect Chrome\n",
    "    driver = webdriver.Chrome('./chromedriver_linux64/chromedriver')\n",
    "    # Access to the web page\n",
    "    driver.get(url)\n",
    "\n",
    "    menu = driver.find_element(by=By.XPATH, value=\"/html/body/section[2]/nav/ul\").find_elements(by=By.TAG_NAME, value=\"a\")\n",
    "\n",
    "    list_url = [url]\n",
    "    for m in menu[2:-1]:\n",
    "        list_url.append(m.get_attribute('href'))\n",
    "    driver.close()\n",
    "    return list_url\n",
    "    \n",
    "\n",
    "\n",
    "if __name__==\"__main__\":\n",
    "    # Create empty dataframe\n",
    "    df_news = pd.DataFrame(columns=[\"title\", \"content\", \"link\"])\n",
    "    \n",
    "    list_url = get_urls()\n",
    "    for url in list_url:\n",
    "        print(f\"\\nRunning {url}.....\")\n",
    "        df_news = crawl_data(url, df_news)\n",
    "    df_news.drop_duplicates(inplace=True, ignore_index=True)\n",
    "    print(len(df_news))\n",
    "    print(df_news.head())\n",
    "    df_news.to_csv('df_news.csv', index=False, header=True)\n",
    "    "
   ]
  },
  {
   "cell_type": "code",
   "execution_count": 6,
   "id": "a87da41c",
   "metadata": {},
   "outputs": [],
   "source": [
    "df_news.drop_duplicates(inplace=True, ignore_index=True)"
   ]
  },
  {
   "cell_type": "code",
   "execution_count": 7,
   "id": "64e12af1",
   "metadata": {},
   "outputs": [
    {
     "data": {
      "text/html": [
       "<div>\n",
       "<style scoped>\n",
       "    .dataframe tbody tr th:only-of-type {\n",
       "        vertical-align: middle;\n",
       "    }\n",
       "\n",
       "    .dataframe tbody tr th {\n",
       "        vertical-align: top;\n",
       "    }\n",
       "\n",
       "    .dataframe thead th {\n",
       "        text-align: right;\n",
       "    }\n",
       "</style>\n",
       "<table border=\"1\" class=\"dataframe\">\n",
       "  <thead>\n",
       "    <tr style=\"text-align: right;\">\n",
       "      <th></th>\n",
       "      <th>title</th>\n",
       "      <th>content</th>\n",
       "      <th>link</th>\n",
       "    </tr>\n",
       "  </thead>\n",
       "  <tbody>\n",
       "    <tr>\n",
       "      <th>0</th>\n",
       "      <td>Bộ trưởng Công Thương: 'Nói thiếu xăng dầu là ...</td>\n",
       "      <td>Bộ trưởng Nguyễn Hồng Diên cho biết nguồn cung...</td>\n",
       "      <td>https://vnexpress.net/bo-truong-cong-thuong-no...</td>\n",
       "    </tr>\n",
       "    <tr>\n",
       "      <th>1</th>\n",
       "      <td>Quần xanh áo trắng</td>\n",
       "      <td>Tiến sĩ, Chuyên gia Nghiên cứu và Phát triển\\n...</td>\n",
       "      <td>https://vnexpress.net/quan-xanh-ao-trang-45039...</td>\n",
       "    </tr>\n",
       "    <tr>\n",
       "      <th>2</th>\n",
       "      <td>Man Utd, Arsenal gặp khó ở Europa League</td>\n",
       "      <td>THỔ NHĨ KỲMan Utd cùng bảng Real Sociedad, She...</td>\n",
       "      <td>https://vnexpress.net/man-utd-arsenal-gap-kho-...</td>\n",
       "    </tr>\n",
       "    <tr>\n",
       "      <th>3</th>\n",
       "      <td>26 khu 'đất vàng' bỏ hoang ở trung tâm TP HCM</td>\n",
       "      <td>Nhiều dự án cao ốc tại quận 1 với tổng diện tí...</td>\n",
       "      <td>https://vnexpress.net/26-khu-dat-vang-bo-hoang...</td>\n",
       "    </tr>\n",
       "    <tr>\n",
       "      <th>4</th>\n",
       "      <td>Mariupol từ thiên đường thành đổ nát</td>\n",
       "      <td>Maryna Holovnova từng có những ngày hè tươi đẹ...</td>\n",
       "      <td>https://vnexpress.net/mariupol-tu-thien-duong-...</td>\n",
       "    </tr>\n",
       "    <tr>\n",
       "      <th>...</th>\n",
       "      <td>...</td>\n",
       "      <td>...</td>\n",
       "      <td>...</td>\n",
       "    </tr>\n",
       "    <tr>\n",
       "      <th>2990</th>\n",
       "      <td>Mèo đánh chuột 'không trượt phát nào'</td>\n",
       "      <td>'Quá đáng, chuột cũng biết tổn thương mà', một...</td>\n",
       "      <td>https://vnexpress.net/meo-danh-chuot-khong-tru...</td>\n",
       "    </tr>\n",
       "    <tr>\n",
       "      <th>2991</th>\n",
       "      <td>Cún mệt mỏi vì phải chơi cùng bọn trẻ</td>\n",
       "      <td>Cún cưng kiểu 'Bao giờ mới hết nghỉ hè chứ anh...</td>\n",
       "      <td>https://vnexpress.net/met-moi-4493476.html</td>\n",
       "    </tr>\n",
       "    <tr>\n",
       "      <th>2992</th>\n",
       "      <td>Vịt 'đại chiến' cún cưng</td>\n",
       "      <td>Sau một hồi hỗn chiến thì cún cưng cũng biết t...</td>\n",
       "      <td>https://vnexpress.net/cun-cung-4493060.html</td>\n",
       "    </tr>\n",
       "    <tr>\n",
       "      <th>2993</th>\n",
       "      <td>Mèo ung dung nhìn chuột giả chết</td>\n",
       "      <td>Con chuột kiểu 'Trời ơi cứu tui, sao mà tự nhi...</td>\n",
       "      <td>https://vnexpress.net/gia-chet-4492332.html</td>\n",
       "    </tr>\n",
       "    <tr>\n",
       "      <th>2994</th>\n",
       "      <td>Husky ăn thua đủ với báo đốm qua tấm kính</td>\n",
       "      <td>Phút trước hùng hổ đấu 'võ mồm' với báo đốm nh...</td>\n",
       "      <td>https://vnexpress.net/hai/thu-cung</td>\n",
       "    </tr>\n",
       "  </tbody>\n",
       "</table>\n",
       "<p>2995 rows × 3 columns</p>\n",
       "</div>"
      ],
      "text/plain": [
       "                                                  title  \\\n",
       "0     Bộ trưởng Công Thương: 'Nói thiếu xăng dầu là ...   \n",
       "1                                    Quần xanh áo trắng   \n",
       "2              Man Utd, Arsenal gặp khó ở Europa League   \n",
       "3         26 khu 'đất vàng' bỏ hoang ở trung tâm TP HCM   \n",
       "4                  Mariupol từ thiên đường thành đổ nát   \n",
       "...                                                 ...   \n",
       "2990              Mèo đánh chuột 'không trượt phát nào'   \n",
       "2991              Cún mệt mỏi vì phải chơi cùng bọn trẻ   \n",
       "2992                           Vịt 'đại chiến' cún cưng   \n",
       "2993                   Mèo ung dung nhìn chuột giả chết   \n",
       "2994          Husky ăn thua đủ với báo đốm qua tấm kính   \n",
       "\n",
       "                                                content  \\\n",
       "0     Bộ trưởng Nguyễn Hồng Diên cho biết nguồn cung...   \n",
       "1     Tiến sĩ, Chuyên gia Nghiên cứu và Phát triển\\n...   \n",
       "2     THỔ NHĨ KỲMan Utd cùng bảng Real Sociedad, She...   \n",
       "3     Nhiều dự án cao ốc tại quận 1 với tổng diện tí...   \n",
       "4     Maryna Holovnova từng có những ngày hè tươi đẹ...   \n",
       "...                                                 ...   \n",
       "2990  'Quá đáng, chuột cũng biết tổn thương mà', một...   \n",
       "2991  Cún cưng kiểu 'Bao giờ mới hết nghỉ hè chứ anh...   \n",
       "2992  Sau một hồi hỗn chiến thì cún cưng cũng biết t...   \n",
       "2993  Con chuột kiểu 'Trời ơi cứu tui, sao mà tự nhi...   \n",
       "2994  Phút trước hùng hổ đấu 'võ mồm' với báo đốm nh...   \n",
       "\n",
       "                                                   link  \n",
       "0     https://vnexpress.net/bo-truong-cong-thuong-no...  \n",
       "1     https://vnexpress.net/quan-xanh-ao-trang-45039...  \n",
       "2     https://vnexpress.net/man-utd-arsenal-gap-kho-...  \n",
       "3     https://vnexpress.net/26-khu-dat-vang-bo-hoang...  \n",
       "4     https://vnexpress.net/mariupol-tu-thien-duong-...  \n",
       "...                                                 ...  \n",
       "2990  https://vnexpress.net/meo-danh-chuot-khong-tru...  \n",
       "2991         https://vnexpress.net/met-moi-4493476.html  \n",
       "2992        https://vnexpress.net/cun-cung-4493060.html  \n",
       "2993        https://vnexpress.net/gia-chet-4492332.html  \n",
       "2994                 https://vnexpress.net/hai/thu-cung  \n",
       "\n",
       "[2995 rows x 3 columns]"
      ]
     },
     "execution_count": 7,
     "metadata": {},
     "output_type": "execute_result"
    }
   ],
   "source": [
    "df_news"
   ]
  },
  {
   "cell_type": "code",
   "execution_count": 8,
   "id": "4c57f49a",
   "metadata": {},
   "outputs": [],
   "source": [
    "df_news.to_csv('df_news.csv', index=False, header=True)"
   ]
  },
  {
   "cell_type": "code",
   "execution_count": 3,
   "id": "8fd5906d",
   "metadata": {},
   "outputs": [
    {
     "data": {
      "text/plain": [
       "10.0"
      ]
     },
     "execution_count": 3,
     "metadata": {},
     "output_type": "execute_result"
    }
   ],
   "source": [
    "600/60"
   ]
  },
  {
   "cell_type": "code",
   "execution_count": null,
   "id": "aea34b75",
   "metadata": {},
   "outputs": [],
   "source": []
  }
 ],
 "metadata": {
  "kernelspec": {
   "display_name": "Python 3",
   "language": "python",
   "name": "python3"
  },
  "language_info": {
   "codemirror_mode": {
    "name": "ipython",
    "version": 3
   },
   "file_extension": ".py",
   "mimetype": "text/x-python",
   "name": "python",
   "nbconvert_exporter": "python",
   "pygments_lexer": "ipython3",
   "version": "3.8.5"
  }
 },
 "nbformat": 4,
 "nbformat_minor": 5
}
